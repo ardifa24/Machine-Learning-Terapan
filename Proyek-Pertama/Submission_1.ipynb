{
  "nbformat": 4,
  "nbformat_minor": 0,
  "metadata": {
    "colab": {
      "private_outputs": true,
      "provenance": []
    },
    "kernelspec": {
      "name": "python3",
      "display_name": "Python 3"
    },
    "language_info": {
      "name": "python"
    }
  },
  "cells": [
    {
      "cell_type": "markdown",
      "source": [
        "# Proyek Machine Learning\n",
        "M. Ardifa Rizqi Ramadhan"
      ],
      "metadata": {
        "id": "v9RM_hD4VXyV"
      }
    },
    {
      "cell_type": "markdown",
      "source": [
        "## Import Library"
      ],
      "metadata": {
        "id": "Vx0FKKdgVXj7"
      }
    },
    {
      "cell_type": "code",
      "execution_count": null,
      "metadata": {
        "id": "t7tOYNgsZgmj"
      },
      "outputs": [],
      "source": [
        "import numpy as np\n",
        "import pandas as pd\n",
        "import matplotlib.pyplot as plt\n",
        "import seaborn as sns\n",
        "from sklearn.preprocessing import OneHotEncoder\n",
        "from sklearn.model_selection import train_test_split\n",
        "from sklearn.preprocessing import StandardScaler\n",
        "from sklearn.linear_model import LinearRegression\n",
        "from sklearn.ensemble import RandomForestRegressor\n",
        "from sklearn.svm import SVR\n",
        "from sklearn.metrics import mean_squared_error, r2_score, mean_absolute_error"
      ]
    },
    {
      "cell_type": "markdown",
      "source": [
        "## Import Dataset"
      ],
      "metadata": {
        "id": "2pzuDfQQVj6O"
      }
    },
    {
      "cell_type": "code",
      "source": [
        "url = 'https://raw.githubusercontent.com/ardifa24/Machine-Learning-Terapan/refs/heads/main/Proyek-Pertama/CarPricesPrediction.csv'\n",
        "carPrices = pd.read_csv(url)\n",
        "carPrices.head()"
      ],
      "metadata": {
        "id": "BYi6qD7mZoPw"
      },
      "execution_count": null,
      "outputs": []
    },
    {
      "cell_type": "markdown",
      "source": [
        "## Data Understanding"
      ],
      "metadata": {
        "id": "iu0buYKIjPbU"
      }
    },
    {
      "cell_type": "code",
      "source": [
        "# Menghapus Kolom Unnamed: 0, karena hanya index dari file CSV\n",
        "carPrices = carPrices.drop('Unnamed: 0', axis=1)"
      ],
      "metadata": {
        "id": "KpEiJwP5I93z"
      },
      "execution_count": null,
      "outputs": []
    },
    {
      "cell_type": "code",
      "source": [
        "carPrices.head()"
      ],
      "metadata": {
        "id": "XfZRM-oVI_Nz"
      },
      "execution_count": null,
      "outputs": []
    },
    {
      "cell_type": "code",
      "source": [
        "carPrices.info()"
      ],
      "metadata": {
        "id": "YVFfjadnkCEj"
      },
      "execution_count": null,
      "outputs": []
    },
    {
      "cell_type": "markdown",
      "source": [
        "Berdasarkan informasi diatas menunjukan bahwa:\n",
        "*  Tipe data object menunjukkan bahwa kolom tersebut berisi data kategorikal dan perlu dikodekan (misalnya dengan One Hot Encoding) sebelum digunakan dalam pemodelan machine learning.\n",
        "*  Tidak terdapat data yang hilang (Non-Null Count = 1000 untuk semua kolom).\n",
        "\n",
        "*  Dataset ini cocok untuk kasus regresi, karena target (Price) bersifat kontinu."
      ],
      "metadata": {
        "id": "ivNlvxSxqvjH"
      }
    },
    {
      "cell_type": "code",
      "source": [
        "carPrices.describe()"
      ],
      "metadata": {
        "id": "yMK8b6uPjPFN"
      },
      "execution_count": null,
      "outputs": []
    },
    {
      "cell_type": "markdown",
      "source": [
        "Berdasarkan informasi diatas menunjukkan bahwa:\n",
        "*  Tahun mobil berkisar antara 2010 hingga 2022, dengan median di 2016. Ini menunjukkan mayoritas mobil relatif baru.\n",
        "*  Kisaran jarak tempuh sangat bervariasi (10 ribu hingga hampir 150 ribu km), menunjukkan dataset mencakup mobil baru hingga cukup tua.\n",
        "*  Harga mobil tersebar antara sekitar 12 ribu hingga 31 ribu, dengan rata-rata sekitar 22 ribu. Ini cocok untuk kasus regresi harga mobil."
      ],
      "metadata": {
        "id": "Gw63cxaIrLkW"
      }
    },
    {
      "cell_type": "code",
      "source": [
        "carPrices.isnull().sum()"
      ],
      "metadata": {
        "id": "pW0-OIBYX3R1"
      },
      "execution_count": null,
      "outputs": []
    },
    {
      "cell_type": "markdown",
      "source": [
        "Tidak terdapat missing values pada keenam kolom (Make, Model, Year, Mileage, Condition, dan Price) dalam dataset."
      ],
      "metadata": {
        "id": "2BoYgsSzrpGR"
      }
    },
    {
      "cell_type": "code",
      "source": [
        "carPrices.duplicated().sum()"
      ],
      "metadata": {
        "id": "yxXYwmRNX-6v"
      },
      "execution_count": null,
      "outputs": []
    },
    {
      "cell_type": "markdown",
      "source": [
        "Tidak terdapat baris data yang duplikat di dalam dataset carPrice"
      ],
      "metadata": {
        "id": "4MsS3HZ_rv8t"
      }
    },
    {
      "cell_type": "markdown",
      "source": [
        "Mengecek nilai Outlier"
      ],
      "metadata": {
        "id": "_KMGe0-nUqff"
      }
    },
    {
      "cell_type": "code",
      "source": [
        "fig, axes = plt.subplots(1, 3, figsize=(15, 5))\n",
        "\n",
        "sns.boxplot(x=carPrices['Mileage'], ax=axes[0])\n",
        "axes[0].set_title('Mileage')\n",
        "\n",
        "sns.boxplot(x=carPrices['Year'], ax=axes[1])\n",
        "axes[1].set_title('Year')\n",
        "\n",
        "sns.boxplot(x=carPrices['Price'], ax=axes[2])\n",
        "axes[2].set_title('Price')\n",
        "\n",
        "plt.tight_layout()\n",
        "plt.show()"
      ],
      "metadata": {
        "id": "KMUhkktungI0"
      },
      "execution_count": null,
      "outputs": []
    },
    {
      "cell_type": "markdown",
      "source": [
        "Berdasarkan visualisasi diatas menunjukkan bahwa ketiga fitur numerik (Mileage, Year,\n",
        " Price) memiliki distribusi yang relatif normal/simetris"
      ],
      "metadata": {
        "id": "NYaBeH03r_Nu"
      }
    },
    {
      "cell_type": "code",
      "source": [
        "numerical_features = ['Year','Mileage','Price']\n",
        "categorical_features = ['Make','Model','Condition']"
      ],
      "metadata": {
        "id": "Sm2OvEHXaYZU"
      },
      "execution_count": null,
      "outputs": []
    },
    {
      "cell_type": "code",
      "source": [
        "feature = categorical_features[0]\n",
        "count = carPrices[feature].value_counts()\n",
        "percent = 100*carPrices[feature].value_counts(normalize=True)\n",
        "df = pd.DataFrame({'jumlah sampel':count, 'persentase':percent.round(1)})\n",
        "print(df)\n",
        "count.plot(kind='bar', title=feature);"
      ],
      "metadata": {
        "id": "qh89UQl-bODa"
      },
      "execution_count": null,
      "outputs": []
    },
    {
      "cell_type": "markdown",
      "source": [
        "Berdasarkan Visualisasi diatas menunjukkan bahwa:\n",
        "*  Chevrolet adalah merek paling umum dalam dataset, disusul oleh Toyota.\n",
        "*  Ford dan Honda memiliki jumlah yang sama (199 sampel).\n",
        "*  Nissan merupakan merek dengan frekuensi paling rendah, namun perbedaannya sangat tipis.\n",
        "*  Distribusi merek cukup merata, masing-masing menyumbang sekitar 18–21% dari total data."
      ],
      "metadata": {
        "id": "oKT0x65ttIr9"
      }
    },
    {
      "cell_type": "code",
      "source": [
        "feature = categorical_features[1]\n",
        "count = carPrices[feature].value_counts()\n",
        "percent = 100*carPrices[feature].value_counts(normalize=True)\n",
        "df = pd.DataFrame({'jumlah sampel':count, 'persentase':percent.round(1)})\n",
        "print(df)\n",
        "count.plot(kind='bar', title=feature);"
      ],
      "metadata": {
        "id": "DB-xLHxUb0em"
      },
      "execution_count": null,
      "outputs": []
    },
    {
      "cell_type": "markdown",
      "source": [
        "Berdasarkan visualisasi diatas menunjukkan bahwa:\n",
        "*  Altima adalah model dengan jumlah sampel terbanyak (226 unit), berkontribusi sekitar 22.6% dari total data.\n",
        "*  Model lain seperti Camry dan Silverado juga memiliki representasi signifikan di dataset.\n",
        "*  Distribusi model cukup seimbang sehingga cocok untuk dijadikan fitur dalam pemodelan prediktif, misalnya regresi harga mobil.\n",
        "\n"
      ],
      "metadata": {
        "id": "gA0ZEBEatb4B"
      }
    },
    {
      "cell_type": "code",
      "source": [
        "feature = categorical_features[2]\n",
        "count = carPrices[feature].value_counts()\n",
        "percent = 100*carPrices[feature].value_counts(normalize=True)\n",
        "df = pd.DataFrame({'jumlah sampel':count, 'persentase':percent.round(1)})\n",
        "print(df)\n",
        "count.plot(kind='bar', title=feature);"
      ],
      "metadata": {
        "id": "bZEnmlQLb2XX"
      },
      "execution_count": null,
      "outputs": []
    },
    {
      "cell_type": "markdown",
      "source": [
        "Berdasarkan visualisasi diatas menunjukkan bahwa:\n",
        "*  Mayoritas mobil (59.5%) berada dalam kondisi Excellent, menunjukkan bahwa sebagian besar kendaraan dalam dataset ini berada dalam kondisi sangat baik.\n",
        "*  Hanya 11.3% mobil yang berada dalam kondisi Fair"
      ],
      "metadata": {
        "id": "qc54krwytyvS"
      }
    },
    {
      "cell_type": "code",
      "source": [
        "mean_prices = carPrices.groupby('Make')['Price'].mean().sort_values(ascending=False)\n",
        "\n",
        "plt.figure(figsize=(8,6))\n",
        "bars = mean_prices.plot(kind='bar', color='steelblue')\n",
        "plt.title('Average Car Price by Make')\n",
        "plt.ylabel('Price')\n",
        "plt.xlabel('Make')\n",
        "\n",
        "for i, v in enumerate(mean_prices):\n",
        "    plt.text(i, v + 200, f'{v:.0f}', ha='center', fontsize=9)\n",
        "\n",
        "plt.xticks(rotation=45)\n",
        "plt.tight_layout()\n",
        "plt.show()\n"
      ],
      "metadata": {
        "id": "dCeIDPJlOMJV"
      },
      "execution_count": null,
      "outputs": []
    },
    {
      "cell_type": "code",
      "source": [
        "carPrices.hist(bins=50, figsize=(13,8))\n",
        "plt.show()"
      ],
      "metadata": {
        "id": "SCIBaZIucOmO"
      },
      "execution_count": null,
      "outputs": []
    },
    {
      "cell_type": "markdown",
      "source": [
        "\n",
        "*   Pada Fitur Year yang merupakan tahun produksi mobil, menunjukkan distribusi terlihat cukup merata pada tahun 2010 hingga 2022, dengan puncak jumlah kendaraan berapa di tahun 2011 dan 2015.\n",
        "*   Pada fitur Mileage yang merupakan jarak tempuh mobil, menunjukan bahwa distribusi terlihat cukup menyebar, mulai dari sekitar 10.000 km hingga lebih dari 140.000 km\n",
        "*   Pada fitur Prices yang merupakan harga mobil, menunjukkan bahwa sebagian besar mobil berada pada kisaran harga pasar menengah\n"
      ],
      "metadata": {
        "id": "6ueg07FgnvTt"
      }
    },
    {
      "cell_type": "markdown",
      "source": [
        "Mengecek Fitur apa saja yang memiliki korelasi dengan price"
      ],
      "metadata": {
        "id": "w8t4mk4JU4r1"
      }
    },
    {
      "cell_type": "code",
      "source": [
        "sns.pairplot(carPrices, diag_kind = 'kde')"
      ],
      "metadata": {
        "id": "2A9N3ueldDb5"
      },
      "execution_count": null,
      "outputs": []
    },
    {
      "cell_type": "code",
      "source": [
        "correlation_matrix = carPrices[numerical_features].corr()\n",
        "\n",
        "plt.figure(figsize=(6, 4))\n",
        "sns.heatmap(correlation_matrix, annot=True, cmap='coolwarm', fmt=\".2f\")\n",
        "plt.title(\"Heatmap Korelasi Fitur Numerik dengan Price\")\n",
        "plt.tight_layout()\n",
        "plt.show()"
      ],
      "metadata": {
        "id": "-6UPFyeGlBAq"
      },
      "execution_count": null,
      "outputs": []
    },
    {
      "cell_type": "markdown",
      "source": [
        "Berdasarkan visualisasi heatmap korelasi diatas menunjukkan bahwa:\n",
        "*  Fitur Year memiliki pengaruh paling besar terhadap Price, dengan korelasi negatif yang sangat kuat.\n",
        "* Mileage juga berpengaruh terhadap Price, meskipun tidak sekuat Year.\n"
      ],
      "metadata": {
        "id": "90ZrD52sqRAy"
      }
    },
    {
      "cell_type": "markdown",
      "source": [
        "## Data Preparation\n",
        "\n",
        "*   **One Hot Encoding** untuk Mengubah fitur kategorikal (berupa teks) menjadi fitur baru yang sesuai sehingga dapat mewakili variabel kategori\n",
        "*   **Feature target Split** untuk Memisahkan data menjadi dua bagian: fitur (X) dan target prediksi (y).\n",
        "*   **Split data 80% data train dan 20% data Test** untuk Membagi data menjadi dua subset: data pelatihan (training) dan data pengujian (testing), agar bisa mengukur performa model secara objektif"
      ],
      "metadata": {
        "id": "fgcQF-Q6dMKW"
      }
    },
    {
      "cell_type": "code",
      "source": [
        "#One Hot Encoding\n",
        "carPrices = pd.concat([carPrices, pd.get_dummies(carPrices['Make'], prefix='Make')], axis=1)\n",
        "carPrices = pd.concat([carPrices, pd.get_dummies(carPrices['Model'], prefix='Model')], axis=1)\n",
        "carPrices = pd.concat([carPrices, pd.get_dummies(carPrices['Condition'], prefix='Condition')], axis=1)\n",
        "carPrices.drop(['Make', 'Model', 'Condition'], axis=1, inplace=True)\n",
        "\n",
        "carPrices.head()"
      ],
      "metadata": {
        "id": "wc1vY3cYvLmR"
      },
      "execution_count": null,
      "outputs": []
    },
    {
      "cell_type": "code",
      "source": [
        "X = carPrices.drop(columns='Price')\n",
        "y = carPrices['Price']\n",
        "\n",
        "X_train, X_test, y_train, y_test = train_test_split(X, y, test_size=0.2, random_state=42)"
      ],
      "metadata": {
        "id": "RVOpqSLtcM6e"
      },
      "execution_count": null,
      "outputs": []
    },
    {
      "cell_type": "markdown",
      "source": [
        "## Model Development\n",
        "\n",
        "*   Linear Regression\n",
        "*   Random Forest\n",
        "*   SVR\n"
      ],
      "metadata": {
        "id": "XieAvDaR-Byb"
      }
    },
    {
      "cell_type": "markdown",
      "source": [
        "### Linier Regression"
      ],
      "metadata": {
        "id": "lte15sxAiHfM"
      }
    },
    {
      "cell_type": "code",
      "source": [
        "lr_model = LinearRegression()\n",
        "lr_model.fit(X_train, y_train)\n",
        "\n",
        "y_pred_lr = lr_model.predict(X_test)\n",
        "\n",
        "r2_lr = r2_score(y_test, y_pred_lr)\n",
        "rmse_lr = np.sqrt(mean_squared_error(y_test, y_pred_lr))\n",
        "mae_lr = mean_absolute_error(y_test, y_pred_lr)\n",
        "\n",
        "print(f\"Linear Regression -> R²: {r2_lr:.3f}, RMSE: {rmse_lr:.2f}, MAE: {mae_lr:.2f}\")"
      ],
      "metadata": {
        "id": "I1fxJcnb7rRq"
      },
      "execution_count": null,
      "outputs": []
    },
    {
      "cell_type": "markdown",
      "source": [
        "### Random Forest"
      ],
      "metadata": {
        "id": "tcsUBzOciLsC"
      }
    },
    {
      "cell_type": "code",
      "source": [
        "rf_model = RandomForestRegressor(random_state=42)\n",
        "rf_model.fit(X_train, y_train)\n",
        "\n",
        "y_pred_rf = rf_model.predict(X_test)\n",
        "\n",
        "r2_rf = r2_score(y_test, y_pred_rf)\n",
        "rmse_rf = np.sqrt(mean_squared_error(y_test, y_pred_rf))\n",
        "mae_rf = mean_absolute_error(y_test, y_pred_rf)\n",
        "\n",
        "print(f\"Random Forest -> R²: {r2_rf:.3f}, RMSE: {rmse_rf:.2f}, MAE: {mae_rf:.2f}\")"
      ],
      "metadata": {
        "id": "rRS2PdIn8KHp"
      },
      "execution_count": null,
      "outputs": []
    },
    {
      "cell_type": "markdown",
      "source": [
        "### Support Vector Regressor (SVR)"
      ],
      "metadata": {
        "id": "qxO1D46miQKQ"
      }
    },
    {
      "cell_type": "code",
      "source": [
        "svr_model = SVR()\n",
        "svr_model.fit(X_train, y_train)\n",
        "\n",
        "y_pred_svr = svr_model.predict(X_test)\n",
        "\n",
        "r2_svr = r2_score(y_test, y_pred_svr)\n",
        "rmse_svr = np.sqrt(mean_squared_error(y_test, y_pred_svr))\n",
        "mae_svr = mean_absolute_error(y_test, y_pred_svr)\n",
        "\n",
        "print(f\"SVR -> R²: {r2_svr:.3f}, RMSE: {rmse_svr:.2f}, MAE: {mae_svr:.2f}\")"
      ],
      "metadata": {
        "id": "aJ7BY89l8M8l"
      },
      "execution_count": null,
      "outputs": []
    },
    {
      "cell_type": "code",
      "source": [
        "evaluasi_model = {\n",
        "    'Model': ['Linear Regression', 'Random Forest', 'SVR'],\n",
        "    'R² Score': [r2_lr, r2_rf, r2_svr],\n",
        "    'RMSE': [rmse_lr, rmse_rf, rmse_svr],\n",
        "    'MAE': [mae_lr, mae_rf, mae_svr]\n",
        "}\n",
        "\n",
        "df_evaluasi = pd.DataFrame(evaluasi_model)\n",
        "\n",
        "print(df_evaluasi)"
      ],
      "metadata": {
        "id": "apTY2psu9TQ0"
      },
      "execution_count": null,
      "outputs": []
    },
    {
      "cell_type": "markdown",
      "source": [
        "Berdasarkan evaluasi menggunakan metrik R2, RMSE, dan MAE, model Linear Regression memiliki performa terbaik dalam memprediksi harga mobil"
      ],
      "metadata": {
        "id": "qjzZJJWkmqwe"
      }
    },
    {
      "cell_type": "code",
      "source": [
        "models = {\n",
        "    'Linear Regression': y_pred_lr,\n",
        "    'Random Forest': y_pred_rf,\n",
        "    'SVR': y_pred_svr\n",
        "}\n",
        "\n",
        "plt.figure(figsize=(18, 5))\n",
        "\n",
        "for i, (name, y_pred) in enumerate(models.items()):\n",
        "    plt.subplot(1, 3, i+1)\n",
        "    plt.scatter(y_test, y_pred, alpha=0.6, edgecolor='k')\n",
        "    plt.plot([y_test.min(), y_test.max()], [y_test.min(), y_test.max()], 'r--')\n",
        "    plt.title(name)\n",
        "    plt.xlabel(\"Actual Price\")\n",
        "    plt.ylabel(\"Predicted Price\")\n",
        "    plt.grid(True)\n",
        "\n",
        "plt.tight_layout()\n",
        "plt.show()"
      ],
      "metadata": {
        "id": "xVS11sgD_2KZ"
      },
      "execution_count": null,
      "outputs": []
    },
    {
      "cell_type": "markdown",
      "source": [
        "Berdasarkan visualisasi dan evaluasi:\n",
        "\n",
        "*   Linear Regression merupakan model dengan performa terbaik dan paling stabil.\n",
        "*   Random Forest menunjukkan hasil yang cukup baik, meskipun sedikit lebih menyebar.\n",
        "*   SVR memerlukan penyesuaian lanjutan sebelum layak digunakan."
      ],
      "metadata": {
        "id": "NQa725sFn6U_"
      }
    },
    {
      "cell_type": "markdown",
      "source": [
        "### Testing"
      ],
      "metadata": {
        "id": "mBAkJU_yixS5"
      }
    },
    {
      "cell_type": "code",
      "source": [
        "sample = X_test.iloc[[1]]\n",
        "actual_price = y_test.iloc[1]\n",
        "\n",
        "pred_lr = lr_model.predict(sample)[0]\n",
        "pred_rf = rf_model.predict(sample)[0]\n",
        "pred_svr = svr_model.predict(sample)[0]\n",
        "\n",
        "print(\"=== Prediksi Harga Mobil ===\")\n",
        "print(f\"Harga Aktual        : ${actual_price:.2f}\")\n",
        "print(f\"Linear Regression   : ${pred_lr:.2f}\")\n",
        "print(f\"Random Forest       : ${pred_rf:.2f}\")\n",
        "print(f\"Support Vector Reg. : ${pred_svr:.2f}\")"
      ],
      "metadata": {
        "id": "ThmpEtE1Eq16"
      },
      "execution_count": null,
      "outputs": []
    },
    {
      "cell_type": "markdown",
      "source": [
        "Dilakukan Pengujian lebih lanjut untuk memastikan bahwa model bekerja dengan baik dan menunjukkan bahwa prediksi Harga mobil dengan Linier Regression memberikan estimasi yang sangat mendekati nilai aktual, dengan selisih hanya sebesar $0.03"
      ],
      "metadata": {
        "id": "RPNYlLhFlUgN"
      }
    }
  ]
}